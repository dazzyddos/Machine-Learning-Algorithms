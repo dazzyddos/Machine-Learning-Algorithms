{
 "cells": [
  {
   "cell_type": "code",
   "execution_count": 1,
   "metadata": {},
   "outputs": [],
   "source": [
    "import numpy as np\n",
    "import pandas as pd"
   ]
  },
  {
   "cell_type": "code",
   "execution_count": 11,
   "metadata": {},
   "outputs": [],
   "source": [
    "train_df = pd.read_csv('train.csv')"
   ]
  },
  {
   "cell_type": "code",
   "execution_count": 7,
   "metadata": {},
   "outputs": [
    {
     "data": {
      "text/html": [
       "<div>\n",
       "<style scoped>\n",
       "    .dataframe tbody tr th:only-of-type {\n",
       "        vertical-align: middle;\n",
       "    }\n",
       "\n",
       "    .dataframe tbody tr th {\n",
       "        vertical-align: top;\n",
       "    }\n",
       "\n",
       "    .dataframe thead th {\n",
       "        text-align: right;\n",
       "    }\n",
       "</style>\n",
       "<table border=\"1\" class=\"dataframe\">\n",
       "  <thead>\n",
       "    <tr style=\"text-align: right;\">\n",
       "      <th></th>\n",
       "      <th>Pclass</th>\n",
       "      <th>Name</th>\n",
       "      <th>Sex</th>\n",
       "      <th>Age</th>\n",
       "      <th>SibSp</th>\n",
       "      <th>Parch</th>\n",
       "      <th>Ticket</th>\n",
       "      <th>Fare</th>\n",
       "      <th>Cabin</th>\n",
       "      <th>Embarked</th>\n",
       "      <th>Survived</th>\n",
       "    </tr>\n",
       "  </thead>\n",
       "  <tbody>\n",
       "    <tr>\n",
       "      <th>0</th>\n",
       "      <td>2</td>\n",
       "      <td>Weisz, Mrs. Leopold (Mathilde Francoise Pede)</td>\n",
       "      <td>female</td>\n",
       "      <td>29.0</td>\n",
       "      <td>1</td>\n",
       "      <td>0</td>\n",
       "      <td>228414</td>\n",
       "      <td>26.00</td>\n",
       "      <td>NaN</td>\n",
       "      <td>S</td>\n",
       "      <td>1</td>\n",
       "    </tr>\n",
       "    <tr>\n",
       "      <th>1</th>\n",
       "      <td>3</td>\n",
       "      <td>Williams, Mr. Howard Hugh \"Harry\"</td>\n",
       "      <td>male</td>\n",
       "      <td>NaN</td>\n",
       "      <td>0</td>\n",
       "      <td>0</td>\n",
       "      <td>A/5 2466</td>\n",
       "      <td>8.05</td>\n",
       "      <td>NaN</td>\n",
       "      <td>S</td>\n",
       "      <td>0</td>\n",
       "    </tr>\n",
       "    <tr>\n",
       "      <th>2</th>\n",
       "      <td>2</td>\n",
       "      <td>Morley, Mr. Henry Samuel (\"Mr Henry Marshall\")</td>\n",
       "      <td>male</td>\n",
       "      <td>39.0</td>\n",
       "      <td>0</td>\n",
       "      <td>0</td>\n",
       "      <td>250655</td>\n",
       "      <td>26.00</td>\n",
       "      <td>NaN</td>\n",
       "      <td>S</td>\n",
       "      <td>0</td>\n",
       "    </tr>\n",
       "  </tbody>\n",
       "</table>\n",
       "</div>"
      ],
      "text/plain": [
       "   Pclass                                            Name     Sex   Age  \\\n",
       "0       2   Weisz, Mrs. Leopold (Mathilde Francoise Pede)  female  29.0   \n",
       "1       3               Williams, Mr. Howard Hugh \"Harry\"    male   NaN   \n",
       "2       2  Morley, Mr. Henry Samuel (\"Mr Henry Marshall\")    male  39.0   \n",
       "\n",
       "   SibSp  Parch    Ticket   Fare Cabin Embarked  Survived  \n",
       "0      1      0    228414  26.00   NaN        S         1  \n",
       "1      0      0  A/5 2466   8.05   NaN        S         0  \n",
       "2      0      0    250655  26.00   NaN        S         0  "
      ]
     },
     "execution_count": 7,
     "metadata": {},
     "output_type": "execute_result"
    }
   ],
   "source": [
    "train_df.head(3)"
   ]
  },
  {
   "cell_type": "code",
   "execution_count": 12,
   "metadata": {},
   "outputs": [],
   "source": [
    "train_df.drop(['Name', 'Ticket'], axis=1, inplace=True)"
   ]
  },
  {
   "cell_type": "code",
   "execution_count": 13,
   "metadata": {},
   "outputs": [
    {
     "data": {
      "text/html": [
       "<div>\n",
       "<style scoped>\n",
       "    .dataframe tbody tr th:only-of-type {\n",
       "        vertical-align: middle;\n",
       "    }\n",
       "\n",
       "    .dataframe tbody tr th {\n",
       "        vertical-align: top;\n",
       "    }\n",
       "\n",
       "    .dataframe thead th {\n",
       "        text-align: right;\n",
       "    }\n",
       "</style>\n",
       "<table border=\"1\" class=\"dataframe\">\n",
       "  <thead>\n",
       "    <tr style=\"text-align: right;\">\n",
       "      <th></th>\n",
       "      <th>Pclass</th>\n",
       "      <th>Sex</th>\n",
       "      <th>Age</th>\n",
       "      <th>SibSp</th>\n",
       "      <th>Parch</th>\n",
       "      <th>Fare</th>\n",
       "      <th>Cabin</th>\n",
       "      <th>Embarked</th>\n",
       "      <th>Survived</th>\n",
       "    </tr>\n",
       "  </thead>\n",
       "  <tbody>\n",
       "    <tr>\n",
       "      <th>0</th>\n",
       "      <td>2</td>\n",
       "      <td>female</td>\n",
       "      <td>29.0</td>\n",
       "      <td>1</td>\n",
       "      <td>0</td>\n",
       "      <td>26.00</td>\n",
       "      <td>NaN</td>\n",
       "      <td>S</td>\n",
       "      <td>1</td>\n",
       "    </tr>\n",
       "    <tr>\n",
       "      <th>1</th>\n",
       "      <td>3</td>\n",
       "      <td>male</td>\n",
       "      <td>NaN</td>\n",
       "      <td>0</td>\n",
       "      <td>0</td>\n",
       "      <td>8.05</td>\n",
       "      <td>NaN</td>\n",
       "      <td>S</td>\n",
       "      <td>0</td>\n",
       "    </tr>\n",
       "    <tr>\n",
       "      <th>2</th>\n",
       "      <td>2</td>\n",
       "      <td>male</td>\n",
       "      <td>39.0</td>\n",
       "      <td>0</td>\n",
       "      <td>0</td>\n",
       "      <td>26.00</td>\n",
       "      <td>NaN</td>\n",
       "      <td>S</td>\n",
       "      <td>0</td>\n",
       "    </tr>\n",
       "  </tbody>\n",
       "</table>\n",
       "</div>"
      ],
      "text/plain": [
       "   Pclass     Sex   Age  SibSp  Parch   Fare Cabin Embarked  Survived\n",
       "0       2  female  29.0      1      0  26.00   NaN        S         1\n",
       "1       3    male   NaN      0      0   8.05   NaN        S         0\n",
       "2       2    male  39.0      0      0  26.00   NaN        S         0"
      ]
     },
     "execution_count": 13,
     "metadata": {},
     "output_type": "execute_result"
    }
   ],
   "source": [
    "train_df.head(3)"
   ]
  },
  {
   "cell_type": "code",
   "execution_count": 14,
   "metadata": {},
   "outputs": [
    {
     "data": {
      "text/plain": [
       "Pclass        0\n",
       "Sex           0\n",
       "Age         132\n",
       "SibSp         0\n",
       "Parch         0\n",
       "Fare          0\n",
       "Cabin       514\n",
       "Embarked      1\n",
       "Survived      0\n",
       "dtype: int64"
      ]
     },
     "execution_count": 14,
     "metadata": {},
     "output_type": "execute_result"
    }
   ],
   "source": [
    "train_df.isnull().sum()"
   ]
  },
  {
   "cell_type": "code",
   "execution_count": 16,
   "metadata": {},
   "outputs": [],
   "source": [
    "train_df['Age'].fillna(train_df['Age'].median(skipna=True), inplace=True)\n",
    "train_df['Embarked'].fillna(train_df['Embarked'].value_counts().idxmax(), inplace=True)"
   ]
  },
  {
   "cell_type": "code",
   "execution_count": 17,
   "metadata": {},
   "outputs": [
    {
     "data": {
      "text/plain": [
       "Pclass        0\n",
       "Sex           0\n",
       "Age           0\n",
       "SibSp         0\n",
       "Parch         0\n",
       "Fare          0\n",
       "Cabin       514\n",
       "Embarked      0\n",
       "Survived      0\n",
       "dtype: int64"
      ]
     },
     "execution_count": 17,
     "metadata": {},
     "output_type": "execute_result"
    }
   ],
   "source": [
    "train_df.isnull().sum()"
   ]
  },
  {
   "cell_type": "code",
   "execution_count": 18,
   "metadata": {},
   "outputs": [],
   "source": [
    "train_df.drop('Cabin', axis=1, inplace=True)"
   ]
  },
  {
   "cell_type": "code",
   "execution_count": 19,
   "metadata": {},
   "outputs": [
    {
     "data": {
      "text/html": [
       "<div>\n",
       "<style scoped>\n",
       "    .dataframe tbody tr th:only-of-type {\n",
       "        vertical-align: middle;\n",
       "    }\n",
       "\n",
       "    .dataframe tbody tr th {\n",
       "        vertical-align: top;\n",
       "    }\n",
       "\n",
       "    .dataframe thead th {\n",
       "        text-align: right;\n",
       "    }\n",
       "</style>\n",
       "<table border=\"1\" class=\"dataframe\">\n",
       "  <thead>\n",
       "    <tr style=\"text-align: right;\">\n",
       "      <th></th>\n",
       "      <th>Pclass</th>\n",
       "      <th>Sex</th>\n",
       "      <th>Age</th>\n",
       "      <th>SibSp</th>\n",
       "      <th>Parch</th>\n",
       "      <th>Fare</th>\n",
       "      <th>Embarked</th>\n",
       "      <th>Survived</th>\n",
       "    </tr>\n",
       "  </thead>\n",
       "  <tbody>\n",
       "    <tr>\n",
       "      <th>0</th>\n",
       "      <td>2</td>\n",
       "      <td>female</td>\n",
       "      <td>29.0</td>\n",
       "      <td>1</td>\n",
       "      <td>0</td>\n",
       "      <td>26.00</td>\n",
       "      <td>S</td>\n",
       "      <td>1</td>\n",
       "    </tr>\n",
       "    <tr>\n",
       "      <th>1</th>\n",
       "      <td>3</td>\n",
       "      <td>male</td>\n",
       "      <td>29.0</td>\n",
       "      <td>0</td>\n",
       "      <td>0</td>\n",
       "      <td>8.05</td>\n",
       "      <td>S</td>\n",
       "      <td>0</td>\n",
       "    </tr>\n",
       "    <tr>\n",
       "      <th>2</th>\n",
       "      <td>2</td>\n",
       "      <td>male</td>\n",
       "      <td>39.0</td>\n",
       "      <td>0</td>\n",
       "      <td>0</td>\n",
       "      <td>26.00</td>\n",
       "      <td>S</td>\n",
       "      <td>0</td>\n",
       "    </tr>\n",
       "  </tbody>\n",
       "</table>\n",
       "</div>"
      ],
      "text/plain": [
       "   Pclass     Sex   Age  SibSp  Parch   Fare Embarked  Survived\n",
       "0       2  female  29.0      1      0  26.00        S         1\n",
       "1       3    male  29.0      0      0   8.05        S         0\n",
       "2       2    male  39.0      0      0  26.00        S         0"
      ]
     },
     "execution_count": 19,
     "metadata": {},
     "output_type": "execute_result"
    }
   ],
   "source": [
    "train_df.head(3)"
   ]
  },
  {
   "cell_type": "code",
   "execution_count": 20,
   "metadata": {},
   "outputs": [],
   "source": [
    "train_df['TravelAlone'] = np.where(train_df['SibSp'] + train_df['Parch'] > 0, 0, 1)\n",
    "train_df.drop(['SibSp', 'Parch'], axis=1, inplace=True)"
   ]
  },
  {
   "cell_type": "code",
   "execution_count": 21,
   "metadata": {},
   "outputs": [
    {
     "data": {
      "text/html": [
       "<div>\n",
       "<style scoped>\n",
       "    .dataframe tbody tr th:only-of-type {\n",
       "        vertical-align: middle;\n",
       "    }\n",
       "\n",
       "    .dataframe tbody tr th {\n",
       "        vertical-align: top;\n",
       "    }\n",
       "\n",
       "    .dataframe thead th {\n",
       "        text-align: right;\n",
       "    }\n",
       "</style>\n",
       "<table border=\"1\" class=\"dataframe\">\n",
       "  <thead>\n",
       "    <tr style=\"text-align: right;\">\n",
       "      <th></th>\n",
       "      <th>Pclass</th>\n",
       "      <th>Sex</th>\n",
       "      <th>Age</th>\n",
       "      <th>Fare</th>\n",
       "      <th>Embarked</th>\n",
       "      <th>Survived</th>\n",
       "      <th>TravelAlone</th>\n",
       "    </tr>\n",
       "  </thead>\n",
       "  <tbody>\n",
       "    <tr>\n",
       "      <th>0</th>\n",
       "      <td>2</td>\n",
       "      <td>female</td>\n",
       "      <td>29.0</td>\n",
       "      <td>26.00</td>\n",
       "      <td>S</td>\n",
       "      <td>1</td>\n",
       "      <td>0</td>\n",
       "    </tr>\n",
       "    <tr>\n",
       "      <th>1</th>\n",
       "      <td>3</td>\n",
       "      <td>male</td>\n",
       "      <td>29.0</td>\n",
       "      <td>8.05</td>\n",
       "      <td>S</td>\n",
       "      <td>0</td>\n",
       "      <td>1</td>\n",
       "    </tr>\n",
       "  </tbody>\n",
       "</table>\n",
       "</div>"
      ],
      "text/plain": [
       "   Pclass     Sex   Age   Fare Embarked  Survived  TravelAlone\n",
       "0       2  female  29.0  26.00        S         1            0\n",
       "1       3    male  29.0   8.05        S         0            1"
      ]
     },
     "execution_count": 21,
     "metadata": {},
     "output_type": "execute_result"
    }
   ],
   "source": [
    "train_df.head(2)"
   ]
  },
  {
   "cell_type": "code",
   "execution_count": 22,
   "metadata": {},
   "outputs": [],
   "source": [
    "train_df = pd.get_dummies(train_df, columns=['Pclass', 'Sex', 'Embarked'])"
   ]
  },
  {
   "cell_type": "code",
   "execution_count": 23,
   "metadata": {},
   "outputs": [
    {
     "data": {
      "text/html": [
       "<div>\n",
       "<style scoped>\n",
       "    .dataframe tbody tr th:only-of-type {\n",
       "        vertical-align: middle;\n",
       "    }\n",
       "\n",
       "    .dataframe tbody tr th {\n",
       "        vertical-align: top;\n",
       "    }\n",
       "\n",
       "    .dataframe thead th {\n",
       "        text-align: right;\n",
       "    }\n",
       "</style>\n",
       "<table border=\"1\" class=\"dataframe\">\n",
       "  <thead>\n",
       "    <tr style=\"text-align: right;\">\n",
       "      <th></th>\n",
       "      <th>Age</th>\n",
       "      <th>Fare</th>\n",
       "      <th>Survived</th>\n",
       "      <th>TravelAlone</th>\n",
       "      <th>Pclass_1</th>\n",
       "      <th>Pclass_2</th>\n",
       "      <th>Pclass_3</th>\n",
       "      <th>Sex_female</th>\n",
       "      <th>Sex_male</th>\n",
       "      <th>Embarked_C</th>\n",
       "      <th>Embarked_Q</th>\n",
       "      <th>Embarked_S</th>\n",
       "    </tr>\n",
       "  </thead>\n",
       "  <tbody>\n",
       "    <tr>\n",
       "      <th>0</th>\n",
       "      <td>29.0</td>\n",
       "      <td>26.00</td>\n",
       "      <td>1</td>\n",
       "      <td>0</td>\n",
       "      <td>0</td>\n",
       "      <td>1</td>\n",
       "      <td>0</td>\n",
       "      <td>1</td>\n",
       "      <td>0</td>\n",
       "      <td>0</td>\n",
       "      <td>0</td>\n",
       "      <td>1</td>\n",
       "    </tr>\n",
       "    <tr>\n",
       "      <th>1</th>\n",
       "      <td>29.0</td>\n",
       "      <td>8.05</td>\n",
       "      <td>0</td>\n",
       "      <td>1</td>\n",
       "      <td>0</td>\n",
       "      <td>0</td>\n",
       "      <td>1</td>\n",
       "      <td>0</td>\n",
       "      <td>1</td>\n",
       "      <td>0</td>\n",
       "      <td>0</td>\n",
       "      <td>1</td>\n",
       "    </tr>\n",
       "    <tr>\n",
       "      <th>2</th>\n",
       "      <td>39.0</td>\n",
       "      <td>26.00</td>\n",
       "      <td>0</td>\n",
       "      <td>1</td>\n",
       "      <td>0</td>\n",
       "      <td>1</td>\n",
       "      <td>0</td>\n",
       "      <td>0</td>\n",
       "      <td>1</td>\n",
       "      <td>0</td>\n",
       "      <td>0</td>\n",
       "      <td>1</td>\n",
       "    </tr>\n",
       "  </tbody>\n",
       "</table>\n",
       "</div>"
      ],
      "text/plain": [
       "    Age   Fare  Survived  TravelAlone  Pclass_1  Pclass_2  Pclass_3  \\\n",
       "0  29.0  26.00         1            0         0         1         0   \n",
       "1  29.0   8.05         0            1         0         0         1   \n",
       "2  39.0  26.00         0            1         0         1         0   \n",
       "\n",
       "   Sex_female  Sex_male  Embarked_C  Embarked_Q  Embarked_S  \n",
       "0           1         0           0           0           1  \n",
       "1           0         1           0           0           1  \n",
       "2           0         1           0           0           1  "
      ]
     },
     "execution_count": 23,
     "metadata": {},
     "output_type": "execute_result"
    }
   ],
   "source": [
    "train_df.head(3)"
   ]
  },
  {
   "cell_type": "code",
   "execution_count": 24,
   "metadata": {},
   "outputs": [],
   "source": [
    "train_df.drop('Sex_female', axis=1, inplace=True)"
   ]
  },
  {
   "cell_type": "code",
   "execution_count": 25,
   "metadata": {},
   "outputs": [
    {
     "data": {
      "text/html": [
       "<div>\n",
       "<style scoped>\n",
       "    .dataframe tbody tr th:only-of-type {\n",
       "        vertical-align: middle;\n",
       "    }\n",
       "\n",
       "    .dataframe tbody tr th {\n",
       "        vertical-align: top;\n",
       "    }\n",
       "\n",
       "    .dataframe thead th {\n",
       "        text-align: right;\n",
       "    }\n",
       "</style>\n",
       "<table border=\"1\" class=\"dataframe\">\n",
       "  <thead>\n",
       "    <tr style=\"text-align: right;\">\n",
       "      <th></th>\n",
       "      <th>Age</th>\n",
       "      <th>Fare</th>\n",
       "      <th>Survived</th>\n",
       "      <th>TravelAlone</th>\n",
       "      <th>Pclass_1</th>\n",
       "      <th>Pclass_2</th>\n",
       "      <th>Pclass_3</th>\n",
       "      <th>Sex_male</th>\n",
       "      <th>Embarked_C</th>\n",
       "      <th>Embarked_Q</th>\n",
       "      <th>Embarked_S</th>\n",
       "    </tr>\n",
       "  </thead>\n",
       "  <tbody>\n",
       "    <tr>\n",
       "      <th>0</th>\n",
       "      <td>29.0</td>\n",
       "      <td>26.00</td>\n",
       "      <td>1</td>\n",
       "      <td>0</td>\n",
       "      <td>0</td>\n",
       "      <td>1</td>\n",
       "      <td>0</td>\n",
       "      <td>0</td>\n",
       "      <td>0</td>\n",
       "      <td>0</td>\n",
       "      <td>1</td>\n",
       "    </tr>\n",
       "    <tr>\n",
       "      <th>1</th>\n",
       "      <td>29.0</td>\n",
       "      <td>8.05</td>\n",
       "      <td>0</td>\n",
       "      <td>1</td>\n",
       "      <td>0</td>\n",
       "      <td>0</td>\n",
       "      <td>1</td>\n",
       "      <td>1</td>\n",
       "      <td>0</td>\n",
       "      <td>0</td>\n",
       "      <td>1</td>\n",
       "    </tr>\n",
       "  </tbody>\n",
       "</table>\n",
       "</div>"
      ],
      "text/plain": [
       "    Age   Fare  Survived  TravelAlone  Pclass_1  Pclass_2  Pclass_3  Sex_male  \\\n",
       "0  29.0  26.00         1            0         0         1         0         0   \n",
       "1  29.0   8.05         0            1         0         0         1         1   \n",
       "\n",
       "   Embarked_C  Embarked_Q  Embarked_S  \n",
       "0           0           0           1  \n",
       "1           0           0           1  "
      ]
     },
     "execution_count": 25,
     "metadata": {},
     "output_type": "execute_result"
    }
   ],
   "source": [
    "train_df.head(2)"
   ]
  },
  {
   "cell_type": "code",
   "execution_count": 37,
   "metadata": {},
   "outputs": [],
   "source": [
    "X = train_df.drop('Survived', axis=1).values\n"
   ]
  },
  {
   "cell_type": "code",
   "execution_count": 38,
   "metadata": {},
   "outputs": [
    {
     "data": {
      "text/plain": [
       "numpy.ndarray"
      ]
     },
     "execution_count": 38,
     "metadata": {},
     "output_type": "execute_result"
    }
   ],
   "source": [
    "type(X)"
   ]
  },
  {
   "cell_type": "code",
   "execution_count": 39,
   "metadata": {},
   "outputs": [],
   "source": [
    "Y = train_df.Survived.values"
   ]
  },
  {
   "cell_type": "code",
   "execution_count": 40,
   "metadata": {},
   "outputs": [
    {
     "data": {
      "text/plain": [
       "numpy.ndarray"
      ]
     },
     "execution_count": 40,
     "metadata": {},
     "output_type": "execute_result"
    }
   ],
   "source": [
    "type(Y)"
   ]
  },
  {
   "cell_type": "code",
   "execution_count": 51,
   "metadata": {},
   "outputs": [],
   "source": [
    "from sklearn.model_selection import train_test_split\n",
    "X_train, X_test, y_train, y_test = train_test_split(X, Y, test_size=0.2, random_state=1)"
   ]
  },
  {
   "cell_type": "code",
   "execution_count": 52,
   "metadata": {},
   "outputs": [],
   "source": [
    "from sklearn.preprocessing import StandardScaler\n",
    "scaler = StandardScaler()\n",
    "X_train = scaler.fit_transform(X_train)\n",
    "X_test = scaler.transform(X_test)"
   ]
  },
  {
   "cell_type": "code",
   "execution_count": 53,
   "metadata": {},
   "outputs": [
    {
     "data": {
      "text/plain": [
       "(534, 10)"
      ]
     },
     "execution_count": 53,
     "metadata": {},
     "output_type": "execute_result"
    }
   ],
   "source": [
    "X_train.shape"
   ]
  },
  {
   "cell_type": "code",
   "execution_count": 54,
   "metadata": {},
   "outputs": [
    {
     "data": {
      "text/plain": [
       "(134, 10)"
      ]
     },
     "execution_count": 54,
     "metadata": {},
     "output_type": "execute_result"
    }
   ],
   "source": [
    "X_test.shape"
   ]
  },
  {
   "cell_type": "code",
   "execution_count": 56,
   "metadata": {},
   "outputs": [],
   "source": [
    "train_ones = np.ones(len(X_train))\n",
    "test_ones = np.ones(len(X_test))\n",
    "train_ones = train_ones.reshape(-1, 1)\n",
    "test_ones = test_ones.reshape(-1, 1)\n",
    "X_train = np.append(X_train, train_ones, axis=1)\n",
    "X_test = np.append(X_test, test_ones, axis=1)"
   ]
  },
  {
   "cell_type": "code",
   "execution_count": 66,
   "metadata": {},
   "outputs": [
    {
     "data": {
      "text/plain": [
       "((534, 11), (134, 11))"
      ]
     },
     "execution_count": 66,
     "metadata": {},
     "output_type": "execute_result"
    }
   ],
   "source": [
    "X_train.shape, X_test.shape"
   ]
  },
  {
   "cell_type": "code",
   "execution_count": 93,
   "metadata": {},
   "outputs": [
    {
     "data": {
      "text/plain": [
       "0.5"
      ]
     },
     "execution_count": 93,
     "metadata": {},
     "output_type": "execute_result"
    }
   ],
   "source": [
    "\n",
    "tm = np.zeros(11)\n",
    "hx = sigmoid(X_train[1, :], tm)\n",
    "hx"
   ]
  },
  {
   "cell_type": "code",
   "execution_count": 98,
   "metadata": {},
   "outputs": [],
   "source": [
    "def sigmoid(x, m):\n",
    "    z = np.dot(x, m)\n",
    "    return 1.0 / (1 + np.exp(-z))"
   ]
  },
  {
   "cell_type": "code",
   "execution_count": 103,
   "metadata": {},
   "outputs": [],
   "source": [
    "def cost(X_train, y_train, m):\n",
    "    total_cost = 0\n",
    "    M = len(X_train)\n",
    "    n_cols = X_train.shape[1]\n",
    "    \n",
    "    for i in range(M):\n",
    "        x = X_train[i, :]\n",
    "        y = y_train[i]\n",
    "        hx = sigmoid(x, m)\n",
    "        \n",
    "        for j in range(n_cols):\n",
    "            total_cost += (-1 / M) * (y) * (np.log(hx)) - (1 - y) * np.log(1 - hx)\n",
    "    \n",
    "    return total_cost"
   ]
  },
  {
   "cell_type": "code",
   "execution_count": 60,
   "metadata": {},
   "outputs": [],
   "source": [
    "def step_gradient(X_train, y_train, learning_rate, m):\n",
    "    n_cols = X_train.shape[1]\n",
    "    m_slope = np.zeros(n_cols)\n",
    "    M = len(X_train)\n",
    "    \n",
    "    for i in range(M):\n",
    "        x = X_train[i, :]\n",
    "        y = y_train[i]\n",
    "        hx = sigmoid(x, m)\n",
    "        \n",
    "        for j in range(n_cols):\n",
    "            m_slope[j] += (-1/M) * (y - hx) * x[j]\n",
    "        m = m - learning_rate * m_slope\n",
    "    \n",
    "    return m"
   ]
  },
  {
   "cell_type": "code",
   "execution_count": 96,
   "metadata": {},
   "outputs": [],
   "source": [
    "def gd(X_train, y_train, learning_rate, num_iterations):\n",
    "    n_cols = X_train.shape[1]\n",
    "    m = np.zeros(n_cols)\n",
    "    \n",
    "    for i in range(num_iterations):\n",
    "        m = step_gradient(X_train, y_train, learning_rate, m)\n",
    "        print(i, \" Cost: \", cost(X_train, y_train, m))\n",
    "    return m"
   ]
  },
  {
   "cell_type": "code",
   "execution_count": 63,
   "metadata": {},
   "outputs": [],
   "source": [
    "def run():\n",
    "    learning_rate = 0.001\n",
    "    num_iterations = 500\n",
    "    m = gd(X_train, y_train, learning_rate, num_iterations)\n",
    "    \n",
    "    return m"
   ]
  },
  {
   "cell_type": "code",
   "execution_count": 104,
   "metadata": {},
   "outputs": [
    {
     "name": "stdout",
     "output_type": "stream",
     "text": [
      "0  Cost:  2267.54754854\n",
      "1  Cost:  2152.37524064\n",
      "2  Cost:  2058.88709797\n",
      "3  Cost:  1981.43009107\n",
      "4  Cost:  1916.06737895\n",
      "5  Cost:  1860.02814353\n",
      "6  Cost:  1811.3290088\n",
      "7  Cost:  1768.52266206\n",
      "8  Cost:  1730.53197077\n",
      "9  Cost:  1696.53976175\n",
      "10  Cost:  1665.91465114\n",
      "11  Cost:  1638.16037598\n",
      "12  Cost:  1612.88062779\n",
      "13  Cost:  1589.75425536\n",
      "14  Cost:  1568.51750586\n",
      "15  Cost:  1548.95111408\n",
      "16  Cost:  1530.8707794\n",
      "17  Cost:  1514.12004315\n",
      "18  Cost:  1498.56488965\n",
      "19  Cost:  1484.08960114\n",
      "20  Cost:  1470.59353614\n",
      "21  Cost:  1457.98859634\n",
      "22  Cost:  1446.19721252\n",
      "23  Cost:  1435.15072652\n",
      "24  Cost:  1424.78807835\n",
      "25  Cost:  1415.05473115\n",
      "26  Cost:  1405.90178321\n",
      "27  Cost:  1397.28522867\n",
      "28  Cost:  1389.16533737\n",
      "29  Cost:  1381.50613103\n",
      "30  Cost:  1374.27493806\n",
      "31  Cost:  1367.44201294\n",
      "32  Cost:  1360.98020895\n",
      "33  Cost:  1354.86469555\n",
      "34  Cost:  1349.07271299\n",
      "35  Cost:  1343.58335847\n",
      "36  Cost:  1338.377399\n",
      "37  Cost:  1333.43710708\n",
      "38  Cost:  1328.74611577\n",
      "39  Cost:  1324.28929068\n",
      "40  Cost:  1320.05261634\n",
      "41  Cost:  1316.02309523\n",
      "42  Cost:  1312.18865768\n",
      "43  Cost:  1308.53808138\n",
      "44  Cost:  1305.06091921\n",
      "45  Cost:  1301.74743444\n",
      "46  Cost:  1298.58854241\n",
      "47  Cost:  1295.57575795\n",
      "48  Cost:  1292.7011478\n",
      "49  Cost:  1289.95728758\n",
      "50  Cost:  1287.33722278\n",
      "51  Cost:  1284.83443321\n",
      "52  Cost:  1282.44280081\n",
      "53  Cost:  1280.1565801\n",
      "54  Cost:  1277.97037138\n",
      "55  Cost:  1275.87909613\n",
      "56  Cost:  1273.87797446\n",
      "57  Cost:  1271.96250453\n",
      "58  Cost:  1270.12844351\n",
      "59  Cost:  1268.37179022\n",
      "60  Cost:  1266.68876903\n",
      "61  Cost:  1265.07581507\n",
      "62  Cost:  1263.5295606\n",
      "63  Cost:  1262.04682235\n",
      "64  Cost:  1260.62458985\n",
      "65  Cost:  1259.26001465\n",
      "66  Cost:  1257.95040028\n",
      "67  Cost:  1256.69319293\n",
      "68  Cost:  1255.48597283\n",
      "69  Cost:  1254.32644622\n",
      "70  Cost:  1253.21243788\n",
      "71  Cost:  1252.14188415\n",
      "72  Cost:  1251.11282644\n",
      "73  Cost:  1250.12340519\n",
      "74  Cost:  1249.17185422\n",
      "75  Cost:  1248.2564954\n",
      "76  Cost:  1247.37573378\n",
      "77  Cost:  1246.52805289\n",
      "78  Cost:  1245.71201048\n",
      "79  Cost:  1244.92623439\n",
      "80  Cost:  1244.16941879\n",
      "81  Cost:  1243.44032061\n",
      "82  Cost:  1242.73775614\n",
      "83  Cost:  1242.06059793\n",
      "84  Cost:  1241.40777178\n",
      "85  Cost:  1240.77825398\n",
      "86  Cost:  1240.1710687\n",
      "87  Cost:  1239.58528547\n",
      "88  Cost:  1239.02001689\n",
      "89  Cost:  1238.47441642\n",
      "90  Cost:  1237.94767631\n",
      "91  Cost:  1237.43902568\n",
      "92  Cost:  1236.94772859\n",
      "93  Cost:  1236.47308241\n",
      "94  Cost:  1236.01441607\n",
      "95  Cost:  1235.5710886\n",
      "96  Cost:  1235.14248756\n",
      "97  Cost:  1234.72802775\n",
      "98  Cost:  1234.32714979\n",
      "99  Cost:  1233.93931897\n",
      "100  Cost:  1233.56402399\n",
      "101  Cost:  1233.2007759\n",
      "102  Cost:  1232.849107\n",
      "103  Cost:  1232.50856985\n",
      "104  Cost:  1232.17873631\n",
      "105  Cost:  1231.85919666\n",
      "106  Cost:  1231.5495587\n",
      "107  Cost:  1231.24944696\n",
      "108  Cost:  1230.95850194\n",
      "109  Cost:  1230.67637935\n",
      "110  Cost:  1230.4027494\n",
      "111  Cost:  1230.13729618\n",
      "112  Cost:  1229.87971699\n",
      "113  Cost:  1229.62972178\n",
      "114  Cost:  1229.38703253\n",
      "115  Cost:  1229.15138273\n",
      "116  Cost:  1228.9225169\n",
      "117  Cost:  1228.70019003\n",
      "118  Cost:  1228.48416715\n",
      "119  Cost:  1228.27422291\n",
      "120  Cost:  1228.0701411\n",
      "121  Cost:  1227.87171428\n",
      "122  Cost:  1227.6787434\n",
      "123  Cost:  1227.49103741\n",
      "124  Cost:  1227.30841292\n",
      "125  Cost:  1227.13069388\n",
      "126  Cost:  1226.95771125\n",
      "127  Cost:  1226.78930269\n",
      "128  Cost:  1226.62531228\n",
      "129  Cost:  1226.46559026\n",
      "130  Cost:  1226.30999272\n",
      "131  Cost:  1226.15838141\n",
      "132  Cost:  1226.01062345\n",
      "133  Cost:  1225.86659113\n",
      "134  Cost:  1225.72616168\n",
      "135  Cost:  1225.58921706\n",
      "136  Cost:  1225.45564377\n",
      "137  Cost:  1225.32533266\n",
      "138  Cost:  1225.19817872\n",
      "139  Cost:  1225.07408096\n",
      "140  Cost:  1224.95294219\n",
      "141  Cost:  1224.83466889\n",
      "142  Cost:  1224.71917107\n",
      "143  Cost:  1224.60636207\n",
      "144  Cost:  1224.4961585\n",
      "145  Cost:  1224.38848005\n",
      "146  Cost:  1224.28324937\n",
      "147  Cost:  1224.18039198\n",
      "148  Cost:  1224.07983612\n",
      "149  Cost:  1223.98151265\n",
      "150  Cost:  1223.88535495\n",
      "151  Cost:  1223.79129882\n",
      "152  Cost:  1223.69928238\n",
      "153  Cost:  1223.60924596\n",
      "154  Cost:  1223.52113204\n",
      "155  Cost:  1223.43488513\n",
      "156  Cost:  1223.35045174\n",
      "157  Cost:  1223.26778024\n",
      "158  Cost:  1223.18682084\n",
      "159  Cost:  1223.10752547\n",
      "160  Cost:  1223.02984776\n",
      "161  Cost:  1222.95374294\n",
      "162  Cost:  1222.87916777\n",
      "163  Cost:  1222.80608052\n",
      "164  Cost:  1222.73444088\n",
      "165  Cost:  1222.66420992\n",
      "166  Cost:  1222.59535001\n",
      "167  Cost:  1222.52782481\n",
      "168  Cost:  1222.46159918\n",
      "169  Cost:  1222.39663919\n",
      "170  Cost:  1222.332912\n",
      "171  Cost:  1222.27038586\n",
      "172  Cost:  1222.20903009\n",
      "173  Cost:  1222.148815\n",
      "174  Cost:  1222.08971186\n",
      "175  Cost:  1222.03169287\n",
      "176  Cost:  1221.97473115\n",
      "177  Cost:  1221.91880065\n",
      "178  Cost:  1221.86387617\n",
      "179  Cost:  1221.8099333\n",
      "180  Cost:  1221.75694841\n",
      "181  Cost:  1221.70489859\n",
      "182  Cost:  1221.65376167\n",
      "183  Cost:  1221.60351615\n",
      "184  Cost:  1221.5541412\n",
      "185  Cost:  1221.50561663\n",
      "186  Cost:  1221.45792285\n",
      "187  Cost:  1221.41104088\n",
      "188  Cost:  1221.36495231\n",
      "189  Cost:  1221.31963928\n",
      "190  Cost:  1221.27508444\n",
      "191  Cost:  1221.23127099\n",
      "192  Cost:  1221.18818259\n",
      "193  Cost:  1221.1458034\n",
      "194  Cost:  1221.10411803\n",
      "195  Cost:  1221.06311154\n",
      "196  Cost:  1221.0227694\n",
      "197  Cost:  1220.98307751\n",
      "198  Cost:  1220.94402218\n",
      "199  Cost:  1220.90559007\n",
      "200  Cost:  1220.86776825\n",
      "201  Cost:  1220.83054413\n",
      "202  Cost:  1220.79390545\n",
      "203  Cost:  1220.75784033\n",
      "204  Cost:  1220.72233717\n",
      "205  Cost:  1220.6873847\n",
      "206  Cost:  1220.65297197\n",
      "207  Cost:  1220.61908829\n",
      "208  Cost:  1220.58572327\n",
      "209  Cost:  1220.5528668\n",
      "210  Cost:  1220.52050901\n",
      "211  Cost:  1220.48864032\n",
      "212  Cost:  1220.45725137\n",
      "213  Cost:  1220.42633304\n",
      "214  Cost:  1220.39587645\n",
      "215  Cost:  1220.36587296\n",
      "216  Cost:  1220.33631411\n",
      "217  Cost:  1220.30719168\n",
      "218  Cost:  1220.27849764\n",
      "219  Cost:  1220.25022416\n",
      "220  Cost:  1220.2223636\n",
      "221  Cost:  1220.19490851\n",
      "222  Cost:  1220.16785161\n",
      "223  Cost:  1220.1411858\n",
      "224  Cost:  1220.11490415\n",
      "225  Cost:  1220.08899988\n",
      "226  Cost:  1220.06346639\n",
      "227  Cost:  1220.03829721\n",
      "228  Cost:  1220.01348603\n",
      "229  Cost:  1219.98902669\n",
      "230  Cost:  1219.96491316\n",
      "231  Cost:  1219.94113955\n",
      "232  Cost:  1219.9177001\n",
      "233  Cost:  1219.89458918\n",
      "234  Cost:  1219.87180128\n",
      "235  Cost:  1219.84933102\n",
      "236  Cost:  1219.82717314\n",
      "237  Cost:  1219.80532247\n",
      "238  Cost:  1219.78377397\n",
      "239  Cost:  1219.7625227\n",
      "240  Cost:  1219.74156384\n",
      "241  Cost:  1219.72089265\n",
      "242  Cost:  1219.70050451\n",
      "243  Cost:  1219.68039487\n",
      "244  Cost:  1219.6605593\n",
      "245  Cost:  1219.64099344\n",
      "246  Cost:  1219.62169303\n",
      "247  Cost:  1219.6026539\n",
      "248  Cost:  1219.58387195\n",
      "249  Cost:  1219.56534317\n",
      "250  Cost:  1219.54706364\n",
      "251  Cost:  1219.52902949\n",
      "252  Cost:  1219.51123694\n",
      "253  Cost:  1219.4936823\n",
      "254  Cost:  1219.47636193\n",
      "255  Cost:  1219.45927227\n",
      "256  Cost:  1219.44240981\n",
      "257  Cost:  1219.42577113\n",
      "258  Cost:  1219.40935286\n",
      "259  Cost:  1219.39315171\n",
      "260  Cost:  1219.37716442\n",
      "261  Cost:  1219.36138782\n",
      "262  Cost:  1219.34581879\n",
      "263  Cost:  1219.33045426\n",
      "264  Cost:  1219.31529122\n",
      "265  Cost:  1219.30032672\n",
      "266  Cost:  1219.28555784\n",
      "267  Cost:  1219.27098176\n",
      "268  Cost:  1219.25659565\n",
      "269  Cost:  1219.24239678\n",
      "270  Cost:  1219.22838243\n",
      "271  Cost:  1219.21454996\n",
      "272  Cost:  1219.20089676\n",
      "273  Cost:  1219.18742025\n",
      "274  Cost:  1219.17411793\n",
      "275  Cost:  1219.16098732\n",
      "276  Cost:  1219.14802597\n",
      "277  Cost:  1219.13523151\n",
      "278  Cost:  1219.12260156\n",
      "279  Cost:  1219.11013383\n",
      "280  Cost:  1219.09782603\n",
      "281  Cost:  1219.08567593\n",
      "282  Cost:  1219.07368133\n",
      "283  Cost:  1219.06184006\n",
      "284  Cost:  1219.05015\n",
      "285  Cost:  1219.03860905\n",
      "286  Cost:  1219.02721514\n",
      "287  Cost:  1219.01596626\n",
      "288  Cost:  1219.00486041\n",
      "289  Cost:  1218.99389562\n",
      "290  Cost:  1218.98306996\n",
      "291  Cost:  1218.97238154\n",
      "292  Cost:  1218.96182849\n",
      "293  Cost:  1218.95140895\n",
      "294  Cost:  1218.94112112\n",
      "295  Cost:  1218.93096321\n",
      "296  Cost:  1218.92093348\n",
      "297  Cost:  1218.91103018\n",
      "298  Cost:  1218.90125161\n",
      "299  Cost:  1218.89159611\n",
      "300  Cost:  1218.88206201\n",
      "301  Cost:  1218.8726477\n",
      "302  Cost:  1218.86335156\n",
      "303  Cost:  1218.85417203\n",
      "304  Cost:  1218.84510755\n",
      "305  Cost:  1218.83615659\n",
      "306  Cost:  1218.82731765\n",
      "307  Cost:  1218.81858923\n",
      "308  Cost:  1218.80996988\n",
      "309  Cost:  1218.80145816\n",
      "310  Cost:  1218.79305264\n",
      "311  Cost:  1218.78475194\n",
      "312  Cost:  1218.77655466\n",
      "313  Cost:  1218.76845945\n",
      "314  Cost:  1218.76046498\n",
      "315  Cost:  1218.75256992\n",
      "316  Cost:  1218.74477298\n",
      "317  Cost:  1218.73707287\n",
      "318  Cost:  1218.72946834\n",
      "319  Cost:  1218.72195813\n",
      "320  Cost:  1218.71454103\n",
      "321  Cost:  1218.70721581\n",
      "322  Cost:  1218.6999813\n"
     ]
    },
    {
     "name": "stdout",
     "output_type": "stream",
     "text": [
      "323  Cost:  1218.69283632\n",
      "324  Cost:  1218.68577971\n",
      "325  Cost:  1218.67881032\n",
      "326  Cost:  1218.67192704\n",
      "327  Cost:  1218.66512875\n",
      "328  Cost:  1218.65841436\n",
      "329  Cost:  1218.65178278\n",
      "330  Cost:  1218.64523297\n",
      "331  Cost:  1218.63876385\n",
      "332  Cost:  1218.63237442\n",
      "333  Cost:  1218.62606363\n",
      "334  Cost:  1218.61983049\n",
      "335  Cost:  1218.61367401\n",
      "336  Cost:  1218.6075932\n",
      "337  Cost:  1218.60158711\n",
      "338  Cost:  1218.59565477\n",
      "339  Cost:  1218.58979526\n",
      "340  Cost:  1218.58400764\n",
      "341  Cost:  1218.57829101\n",
      "342  Cost:  1218.57264446\n",
      "343  Cost:  1218.5670671\n",
      "344  Cost:  1218.56155806\n",
      "345  Cost:  1218.55611647\n",
      "346  Cost:  1218.55074149\n",
      "347  Cost:  1218.54543226\n",
      "348  Cost:  1218.54018796\n",
      "349  Cost:  1218.53500777\n",
      "350  Cost:  1218.52989089\n",
      "351  Cost:  1218.52483651\n",
      "352  Cost:  1218.51984384\n",
      "353  Cost:  1218.51491212\n",
      "354  Cost:  1218.51004058\n",
      "355  Cost:  1218.50522846\n",
      "356  Cost:  1218.50047502\n",
      "357  Cost:  1218.49577952\n",
      "358  Cost:  1218.49114124\n",
      "359  Cost:  1218.48655945\n",
      "360  Cost:  1218.48203346\n",
      "361  Cost:  1218.47756256\n",
      "362  Cost:  1218.47314607\n",
      "363  Cost:  1218.46878331\n",
      "364  Cost:  1218.46447361\n",
      "365  Cost:  1218.46021631\n",
      "366  Cost:  1218.45601075\n",
      "367  Cost:  1218.45185629\n",
      "368  Cost:  1218.44775229\n",
      "369  Cost:  1218.44369813\n",
      "370  Cost:  1218.43969319\n",
      "371  Cost:  1218.43573685\n",
      "372  Cost:  1218.43182852\n",
      "373  Cost:  1218.42796759\n",
      "374  Cost:  1218.42415349\n",
      "375  Cost:  1218.42038562\n",
      "376  Cost:  1218.41666342\n",
      "377  Cost:  1218.41298633\n",
      "378  Cost:  1218.40935377\n",
      "379  Cost:  1218.40576521\n",
      "380  Cost:  1218.4022201\n",
      "381  Cost:  1218.39871791\n",
      "382  Cost:  1218.39525809\n",
      "383  Cost:  1218.39184014\n",
      "384  Cost:  1218.38846353\n",
      "385  Cost:  1218.38512775\n",
      "386  Cost:  1218.3818323\n",
      "387  Cost:  1218.37857669\n",
      "388  Cost:  1218.37536042\n",
      "389  Cost:  1218.37218302\n",
      "390  Cost:  1218.36904399\n",
      "391  Cost:  1218.36594287\n",
      "392  Cost:  1218.3628792\n",
      "393  Cost:  1218.35985252\n",
      "394  Cost:  1218.35686236\n",
      "395  Cost:  1218.35390828\n",
      "396  Cost:  1218.35098985\n",
      "397  Cost:  1218.34810662\n",
      "398  Cost:  1218.34525815\n",
      "399  Cost:  1218.34244404\n",
      "400  Cost:  1218.33966384\n",
      "401  Cost:  1218.33691716\n",
      "402  Cost:  1218.33420358\n",
      "403  Cost:  1218.33152268\n",
      "404  Cost:  1218.32887409\n",
      "405  Cost:  1218.32625739\n",
      "406  Cost:  1218.3236722\n",
      "407  Cost:  1218.32111814\n",
      "408  Cost:  1218.31859482\n",
      "409  Cost:  1218.31610187\n",
      "410  Cost:  1218.31363892\n",
      "411  Cost:  1218.3112056\n",
      "412  Cost:  1218.30880156\n",
      "413  Cost:  1218.30642643\n",
      "414  Cost:  1218.30407986\n",
      "415  Cost:  1218.3017615\n",
      "416  Cost:  1218.29947102\n",
      "417  Cost:  1218.29720806\n",
      "418  Cost:  1218.29497231\n",
      "419  Cost:  1218.29276342\n",
      "420  Cost:  1218.29058106\n",
      "421  Cost:  1218.28842493\n",
      "422  Cost:  1218.28629469\n",
      "423  Cost:  1218.28419003\n",
      "424  Cost:  1218.28211065\n",
      "425  Cost:  1218.28005622\n",
      "426  Cost:  1218.27802647\n",
      "427  Cost:  1218.27602107\n",
      "428  Cost:  1218.27403974\n",
      "429  Cost:  1218.27208218\n",
      "430  Cost:  1218.27014811\n",
      "431  Cost:  1218.26823724\n",
      "432  Cost:  1218.26634929\n",
      "433  Cost:  1218.26448399\n",
      "434  Cost:  1218.26264105\n",
      "435  Cost:  1218.26082021\n",
      "436  Cost:  1218.2590212\n",
      "437  Cost:  1218.25724375\n",
      "438  Cost:  1218.25548761\n",
      "439  Cost:  1218.25375251\n",
      "440  Cost:  1218.2520382\n",
      "441  Cost:  1218.25034444\n",
      "442  Cost:  1218.24867096\n",
      "443  Cost:  1218.24701754\n",
      "444  Cost:  1218.24538391\n",
      "445  Cost:  1218.24376985\n",
      "446  Cost:  1218.24217512\n",
      "447  Cost:  1218.24059948\n",
      "448  Cost:  1218.23904271\n",
      "449  Cost:  1218.23750457\n",
      "450  Cost:  1218.23598485\n",
      "451  Cost:  1218.23448331\n",
      "452  Cost:  1218.23299974\n",
      "453  Cost:  1218.23153393\n",
      "454  Cost:  1218.23008565\n",
      "455  Cost:  1218.2286547\n",
      "456  Cost:  1218.22724087\n",
      "457  Cost:  1218.22584395\n",
      "458  Cost:  1218.22446374\n",
      "459  Cost:  1218.22310003\n",
      "460  Cost:  1218.22175263\n",
      "461  Cost:  1218.22042135\n",
      "462  Cost:  1218.21910598\n",
      "463  Cost:  1218.21780633\n",
      "464  Cost:  1218.21652222\n",
      "465  Cost:  1218.21525346\n",
      "466  Cost:  1218.21399986\n",
      "467  Cost:  1218.21276125\n",
      "468  Cost:  1218.21153743\n",
      "469  Cost:  1218.21032824\n",
      "470  Cost:  1218.2091335\n",
      "471  Cost:  1218.20795303\n",
      "472  Cost:  1218.20678666\n",
      "473  Cost:  1218.20563422\n",
      "474  Cost:  1218.20449555\n",
      "475  Cost:  1218.20337048\n",
      "476  Cost:  1218.20225884\n",
      "477  Cost:  1218.20116048\n",
      "478  Cost:  1218.20007523\n",
      "479  Cost:  1218.19900294\n",
      "480  Cost:  1218.19794345\n",
      "481  Cost:  1218.19689661\n",
      "482  Cost:  1218.19586227\n",
      "483  Cost:  1218.19484027\n",
      "484  Cost:  1218.19383047\n",
      "485  Cost:  1218.19283272\n",
      "486  Cost:  1218.19184688\n",
      "487  Cost:  1218.1908728\n",
      "488  Cost:  1218.18991035\n",
      "489  Cost:  1218.18895938\n",
      "490  Cost:  1218.18801975\n",
      "491  Cost:  1218.18709133\n",
      "492  Cost:  1218.18617399\n",
      "493  Cost:  1218.18526759\n",
      "494  Cost:  1218.184372\n",
      "495  Cost:  1218.1834871\n",
      "496  Cost:  1218.18261274\n",
      "497  Cost:  1218.18174882\n",
      "498  Cost:  1218.18089519\n",
      "499  Cost:  1218.18005175\n"
     ]
    }
   ],
   "source": [
    "m = run()"
   ]
  },
  {
   "cell_type": "markdown",
   "metadata": {},
   "source": [
    "m"
   ]
  },
  {
   "cell_type": "code",
   "execution_count": 108,
   "metadata": {},
   "outputs": [],
   "source": [
    "def predict(X_test, m):\n",
    "    M = len(X_test)\n",
    "    y_pred = np.zeros(M)\n",
    "    \n",
    "    for i in range(M):\n",
    "        x = X_test[i, :]\n",
    "        p = sigmoid(x, m)\n",
    "        if (p > 0.5):\n",
    "            y_pred[i] = 1\n",
    "        else:\n",
    "            y_pred[i] = 0\n",
    "    \n",
    "    return y_pred"
   ]
  },
  {
   "cell_type": "code",
   "execution_count": 109,
   "metadata": {},
   "outputs": [],
   "source": [
    "y_pred = predict(X_test, m)"
   ]
  },
  {
   "cell_type": "code",
   "execution_count": 110,
   "metadata": {},
   "outputs": [
    {
     "data": {
      "text/plain": [
       "array([ 0.,  0.,  0.,  0.,  0.,  0.,  1.,  0.,  1.,  1.,  1.,  0.,  0.,\n",
       "        0.,  0.,  0.,  0.,  0.,  1.,  0.,  0.,  1.,  1.,  1.,  1.,  0.,\n",
       "        1.,  1.,  0.,  1.,  1.,  0.,  0.,  1.,  1.,  1.,  1.,  1.,  0.,\n",
       "        1.,  0.,  0.,  1.,  0.,  0.,  1.,  0.,  1.,  1.,  1.,  0.,  0.,\n",
       "        0.,  0.,  0.,  1.,  0.,  0.,  1.,  0.,  1.,  1.,  0.,  0.,  0.,\n",
       "        1.,  1.,  1.,  1.,  0.,  0.,  0.,  0.,  1.,  0.,  0.,  1.,  0.,\n",
       "        0.,  0.,  1.,  0.,  1.,  1.,  0.,  0.,  1.,  1.,  1.,  0.,  1.,\n",
       "        1.,  0.,  1.,  0.,  1.,  1.,  0.,  1.,  0.,  1.,  0.,  0.,  1.,\n",
       "        1.,  0.,  1.,  0.,  1.,  0.,  1.,  1.,  0.,  1.,  1.,  0.,  0.,\n",
       "        0.,  1.,  0.,  0.,  0.,  0.,  1.,  0.,  1.,  0.,  0.,  0.,  0.,\n",
       "        0.,  0.,  0.,  1.])"
      ]
     },
     "execution_count": 110,
     "metadata": {},
     "output_type": "execute_result"
    }
   ],
   "source": [
    "y_pred"
   ]
  },
  {
   "cell_type": "code",
   "execution_count": 111,
   "metadata": {},
   "outputs": [],
   "source": [
    "from sklearn.metrics import accuracy_score, confusion_matrix\n",
    "cm = confusion_matrix(y_test, y_pred)"
   ]
  },
  {
   "cell_type": "code",
   "execution_count": 112,
   "metadata": {},
   "outputs": [
    {
     "data": {
      "text/plain": [
       "array([[67, 16],\n",
       "       [ 8, 43]])"
      ]
     },
     "execution_count": 112,
     "metadata": {},
     "output_type": "execute_result"
    }
   ],
   "source": [
    "cm"
   ]
  },
  {
   "cell_type": "code",
   "execution_count": 113,
   "metadata": {},
   "outputs": [
    {
     "data": {
      "text/plain": [
       "0.82089552238805974"
      ]
     },
     "execution_count": 113,
     "metadata": {},
     "output_type": "execute_result"
    }
   ],
   "source": [
    "accuracy_score(y_test, y_pred)"
   ]
  },
  {
   "cell_type": "code",
   "execution_count": null,
   "metadata": {},
   "outputs": [],
   "source": []
  }
 ],
 "metadata": {
  "kernelspec": {
   "display_name": "Python 3",
   "language": "python",
   "name": "python3"
  },
  "language_info": {
   "codemirror_mode": {
    "name": "ipython",
    "version": 3
   },
   "file_extension": ".py",
   "mimetype": "text/x-python",
   "name": "python",
   "nbconvert_exporter": "python",
   "pygments_lexer": "ipython3",
   "version": "3.6.6"
  }
 },
 "nbformat": 4,
 "nbformat_minor": 2
}
